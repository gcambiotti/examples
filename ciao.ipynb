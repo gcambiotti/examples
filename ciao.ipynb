import numpy as np
import matplotlib.pyplot as plt

fig,ax= plt.subplots()
ax.plot(np.random.rand(100)
