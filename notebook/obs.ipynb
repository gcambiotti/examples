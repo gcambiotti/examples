{
 "cells": [
  {
   "cell_type": "code",
   "execution_count": 1,
   "id": "1265c8f3-cc8e-4e3f-b1cb-b9f9254af309",
   "metadata": {},
   "outputs": [
    {
     "name": "stdout",
     "output_type": "stream",
     "text": [
      "2018-01-01T00:00:00.000000Z\n"
     ]
    }
   ],
   "source": [
    "from obspy import UTCDateTime\n",
    "starttime=UTCDateTime(2018,1,1)\n",
    "print(starttime)"
   ]
  },
  {
   "cell_type": "code",
   "execution_count": null,
   "id": "8dcac676-177a-4163-88dd-c256f83c774c",
   "metadata": {},
   "outputs": [],
   "source": []
  }
 ],
 "metadata": {
  "kernelspec": {
   "display_name": "Python 3 (ipykernel)",
   "language": "python",
   "name": "python3"
  },
  "language_info": {
   "codemirror_mode": {
    "name": "ipython",
    "version": 3
   },
   "file_extension": ".py",
   "mimetype": "text/x-python",
   "name": "python",
   "nbconvert_exporter": "python",
   "pygments_lexer": "ipython3",
   "version": "3.11.0"
  }
 },
 "nbformat": 4,
 "nbformat_minor": 5
}
